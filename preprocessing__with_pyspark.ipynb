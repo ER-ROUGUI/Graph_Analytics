{
  "nbformat": 4,
  "nbformat_minor": 0,
  "metadata": {
    "colab": {
      "provenance": [],
      "gpuType": "T4"
    },
    "kernelspec": {
      "name": "python3",
      "display_name": "Python 3"
    },
    "language_info": {
      "name": "python"
    },
    "accelerator": "GPU"
  },
  "cells": [
    {
      "cell_type": "markdown",
      "source": [],
      "metadata": {
        "id": "zRkcOx1nrP2k"
      }
    },
    {
      "cell_type": "markdown",
      "source": [
        "***in this notebook we have created new features like 'session duration' and 'session_gap' with pyspark because the dataset is very voulimineux. Pyspark is the most optimal for us***\n",
        "\n",
        "\n"
      ],
      "metadata": {
        "id": "ZTAnvgbAqmiB"
      }
    },
    {
      "cell_type": "code",
      "execution_count": null,
      "metadata": {
        "colab": {
          "base_uri": "https://localhost:8080/"
        },
        "id": "NSatK5R1pL_3",
        "outputId": "b2354d99-a0f5-4cb2-d672-d4e7e18bae58"
      },
      "outputs": [
        {
          "output_type": "stream",
          "name": "stdout",
          "text": [
            "Hit:1 http://archive.ubuntu.com/ubuntu jammy InRelease\n",
            "Get:2 http://archive.ubuntu.com/ubuntu jammy-updates InRelease [128 kB]\n",
            "Get:3 http://security.ubuntu.com/ubuntu jammy-security InRelease [129 kB]\n",
            "Get:4 https://cloud.r-project.org/bin/linux/ubuntu jammy-cran40/ InRelease [3,632 B]\n",
            "Get:5 https://developer.download.nvidia.com/compute/cuda/repos/ubuntu2204/x86_64  InRelease [1,581 B]\n",
            "Get:6 https://r2u.stat.illinois.edu/ubuntu jammy InRelease [6,555 B]\n",
            "Get:7 http://archive.ubuntu.com/ubuntu jammy-backports InRelease [127 kB]\n",
            "Hit:8 https://ppa.launchpadcontent.net/deadsnakes/ppa/ubuntu jammy InRelease\n",
            "Get:9 https://cloud.r-project.org/bin/linux/ubuntu jammy-cran40/ Packages [66.7 kB]\n",
            "Get:10 https://ppa.launchpadcontent.net/graphics-drivers/ppa/ubuntu jammy InRelease [24.3 kB]\n",
            "Get:11 https://developer.download.nvidia.com/compute/cuda/repos/ubuntu2204/x86_64  Packages [1,309 kB]\n",
            "Hit:12 https://ppa.launchpadcontent.net/ubuntugis/ppa/ubuntu jammy InRelease\n",
            "Get:13 https://r2u.stat.illinois.edu/ubuntu jammy/main amd64 Packages [2,653 kB]\n",
            "Get:14 http://archive.ubuntu.com/ubuntu jammy-updates/main amd64 Packages [2,907 kB]\n",
            "Get:15 https://r2u.stat.illinois.edu/ubuntu jammy/main all Packages [8,669 kB]\n",
            "Get:16 http://archive.ubuntu.com/ubuntu jammy-updates/universe amd64 Packages [1,523 kB]\n",
            "Get:17 http://security.ubuntu.com/ubuntu jammy-security/universe amd64 Packages [1,230 kB]\n",
            "Get:18 http://security.ubuntu.com/ubuntu jammy-security/main amd64 Packages [2,606 kB]\n",
            "Fetched 21.4 MB in 6s (3,426 kB/s)\n",
            "Reading package lists... Done\n",
            "W: Skipping acquire of configured file 'main/source/Sources' as repository 'https://r2u.stat.illinois.edu/ubuntu jammy InRelease' does not seem to provide it (sources.list entry misspelt?)\n",
            "Requirement already satisfied: pyspark in /usr/local/lib/python3.11/dist-packages (3.5.4)\n",
            "Requirement already satisfied: py4j==0.10.9.7 in /usr/local/lib/python3.11/dist-packages (from pyspark) (0.10.9.7)\n"
          ]
        }
      ],
      "source": [
        "!apt-get update\n",
        "!apt-get install openjdk-11-jdk-headless -qq > /dev/null\n",
        "!pip install pyspark\n"
      ]
    },
    {
      "cell_type": "code",
      "source": [
        "import pyspark\n",
        "from pyspark.sql import SparkSession\n",
        "\n",
        "spark = SparkSession.builder.appName(\"ColabPySpark\").getOrCreate()\n",
        "\n",
        "print(\"PySpark Version:\", spark.version)\n"
      ],
      "metadata": {
        "colab": {
          "base_uri": "https://localhost:8080/"
        },
        "id": "IjMpBqb2pbRm",
        "outputId": "7b3794c4-6fde-46ca-e2ce-6a171c31bb5b"
      },
      "execution_count": null,
      "outputs": [
        {
          "output_type": "stream",
          "name": "stdout",
          "text": [
            "PySpark Version: 3.5.4\n"
          ]
        }
      ]
    },
    {
      "cell_type": "code",
      "source": [
        "df_spark = spark.read.csv(\"/content/drive/MyDrive/mooc_data/df_train_log_course.csv\", header=True, inferSchema=True)\n",
        "df_spark.show(5)\n"
      ],
      "metadata": {
        "colab": {
          "base_uri": "https://localhost:8080/"
        },
        "id": "4ooFLeiSpmmv",
        "outputId": "58ef2f4d-74b5-4fd1-8264-7cb97457d697"
      },
      "execution_count": null,
      "outputs": [
        {
          "output_type": "stream",
          "name": "stdout",
          "text": [
            "+---------+--------+--------------------+--------------------+-----------+-------------------+--------+\n",
            "|enroll_id|username|           course_id|          session_id|     action|               time|category|\n",
            "+---------+--------+--------------------+--------------------+-----------+-------------------+--------+\n",
            "|      772|    5981|course-v1:Tsinghu...|d8a9b787fa69063c3...|click_about|2015-09-27 15:42:59|     art|\n",
            "|      772|    5981|course-v1:Tsinghu...|d8a9b787fa69063c3...| click_info|2015-09-27 15:43:12|     art|\n",
            "|      773| 1544995|course-v1:Tsinghu...|2f02b86eb3ea2cbf0...|pause_video|2015-10-19 19:37:42|     art|\n",
            "|      773| 1544995|course-v1:Tsinghu...|2f02b86eb3ea2cbf0...| load_video|2015-10-19 19:33:27|     art|\n",
            "|      773| 1544995|course-v1:Tsinghu...|2f02b86eb3ea2cbf0...| play_video|2015-10-19 19:33:30|     art|\n",
            "+---------+--------+--------------------+--------------------+-----------+-------------------+--------+\n",
            "only showing top 5 rows\n",
            "\n"
          ]
        }
      ]
    },
    {
      "cell_type": "code",
      "source": [
        "from pyspark.sql import SparkSession\n",
        "from pyspark.sql.functions import min, max, unix_timestamp, col\n",
        "\n",
        "\n",
        "\n",
        "\n",
        "df_spark = df_spark.withColumn(\"time\", col(\"time\").cast(\"timestamp\"))\n",
        "\n",
        "\n",
        "session_durations = df_spark.groupBy(\"username\", \"enroll_id\", \"session_id\").agg(\n",
        "    min(\"time\").alias(\"session_start\"),\n",
        "    max(\"time\").alias(\"session_end\")\n",
        ")\n",
        "\n",
        "\n",
        "session_durations = session_durations.withColumn(\"session_duration\",\n",
        "    unix_timestamp(col(\"session_end\")) - unix_timestamp(col(\"session_start\"))\n",
        ")\n",
        "\n",
        "\n",
        "df_spark = df_spark.join(session_durations.select(\"username\", \"enroll_id\", \"session_id\", \"session_duration\"),\n",
        "                         on=[\"username\", \"enroll_id\", \"session_id\"], how=\"left\")\n",
        "\n",
        "\n",
        "df_spark.select(\"username\", \"enroll_id\", \"session_id\", \"session_duration\").distinct().show(10)\n",
        "\n",
        "\n"
      ],
      "metadata": {
        "colab": {
          "base_uri": "https://localhost:8080/"
        },
        "id": "_Z5KB_vC3Mfi",
        "outputId": "abc060d4-2bb2-4f6a-fb9e-de673e7e55a2"
      },
      "execution_count": null,
      "outputs": [
        {
          "output_type": "stream",
          "name": "stdout",
          "text": [
            "+--------+---------+--------------------+----------------+\n",
            "|username|enroll_id|          session_id|session_duration|\n",
            "+--------+---------+--------------------+----------------+\n",
            "|       5|   136060|c4d05fdd4af11ea45...|           10468|\n",
            "|       5|   189082|7a4aa45ee44784b02...|             166|\n",
            "|       5|   246788|c4d05fdd4af11ea45...|          605093|\n",
            "|       5|   258790|d1d739518c0b8353a...|               0|\n",
            "|       7|   463935|30c5f66078ba4d852...|           92406|\n",
            "|      26|    39180|7e4485af421089caa...|              50|\n",
            "|      26|   257780|be4255148c88e179b...|            1115|\n",
            "|      26|   275289|9244e25da6e21ef80...|              49|\n",
            "|      32|   400456|5e8b851a19fa74976...|            2636|\n",
            "|      35|    12347|00d0223d8e65ff0c5...|               0|\n",
            "+--------+---------+--------------------+----------------+\n",
            "only showing top 10 rows\n",
            "\n"
          ]
        }
      ]
    },
    {
      "cell_type": "code",
      "source": [
        "df_spark.show(5)"
      ],
      "metadata": {
        "colab": {
          "base_uri": "https://localhost:8080/"
        },
        "id": "XnUOmNZc4NP0",
        "outputId": "79838f79-1684-42d4-a07b-93dec151734e"
      },
      "execution_count": null,
      "outputs": [
        {
          "output_type": "stream",
          "name": "stdout",
          "text": [
            "+--------+---------+--------------------+--------------------+----------------+-------------------+--------+----------------+\n",
            "|username|enroll_id|          session_id|           course_id|          action|               time|category|session_duration|\n",
            "+--------+---------+--------------------+--------------------+----------------+-------------------+--------+----------------+\n",
            "|    5981|      772|d8a9b787fa69063c3...|course-v1:Tsinghu...|     click_about|2015-09-27 15:42:59|     art|              13|\n",
            "|    5981|      772|d8a9b787fa69063c3...|course-v1:Tsinghu...|      click_info|2015-09-27 15:43:12|     art|              13|\n",
            "|  102691|   260571|365fb04030044ef58...|course-v1:Tsinghu...|     pause_video|2016-04-29 18:06:59| Unknown|           77273|\n",
            "|  102691|   260571|365fb04030044ef58...|course-v1:Tsinghu...|click_courseware|2016-04-30 12:43:15| Unknown|           77273|\n",
            "|  102691|   260571|365fb04030044ef58...|course-v1:Tsinghu...|click_courseware|2016-04-30 12:43:22| Unknown|           77273|\n",
            "+--------+---------+--------------------+--------------------+----------------+-------------------+--------+----------------+\n",
            "only showing top 5 rows\n",
            "\n"
          ]
        }
      ]
    },
    {
      "cell_type": "code",
      "source": [
        "from pyspark.sql.functions import min, max, unix_timestamp, lag, col\n",
        "from pyspark.sql.window import Window\n",
        "\n",
        "\n",
        "session_gap_df = df_spark.groupBy(\"username\", \"enroll_id\", \"session_id\").agg(\n",
        "    min(\"time\").alias(\"session_start\"),\n",
        "    max(\"time\").alias(\"session_end\")\n",
        ")\n",
        "\n",
        "\n",
        "window_spec = Window.partitionBy(\"username\", \"enroll_id\").orderBy(\"session_start\")\n",
        "\n",
        "\n",
        "session_gap_df = session_gap_df.withColumn(\"prev_session_end\", lag(\"session_end\").over(window_spec))\n",
        "\n",
        "session_gap_df = session_gap_df.withColumn(\"session_gap\",\n",
        "    unix_timestamp(col(\"session_start\")) - unix_timestamp(col(\"prev_session_end\"))\n",
        ")\n",
        "\n",
        "\n",
        "session_gap_df = session_gap_df.fillna({\"session_gap\": 0})\n",
        "\n",
        "\n",
        "df_spark = df_spark.join(session_gap_df.select(\"username\", \"enroll_id\", \"session_id\", \"session_gap\"),\n",
        "                         on=[\"username\", \"enroll_id\", \"session_id\"], how=\"left\")\n",
        "\n",
        "\n",
        "df_spark.distinct().show(10)\n",
        "\n",
        "\n"
      ],
      "metadata": {
        "colab": {
          "base_uri": "https://localhost:8080/"
        },
        "id": "TMRaYx7Q6_DH",
        "outputId": "338f31fc-dce4-4a81-93e1-0204473d3b48"
      },
      "execution_count": null,
      "outputs": [
        {
          "output_type": "stream",
          "name": "stdout",
          "text": [
            "+--------+---------+--------------------+--------------------+----------------+-------------------+--------+----------------+-----------+\n",
            "|username|enroll_id|          session_id|           course_id|          action|               time|category|session_duration|session_gap|\n",
            "+--------+---------+--------------------+--------------------+----------------+-------------------+--------+----------------+-----------+\n",
            "|       5|   136060|c4d05fdd4af11ea45...|TsinghuaX/6051010...|close_courseware|2015-10-12 17:34:13|business|           10468|          0|\n",
            "|       5|   136060|c4d05fdd4af11ea45...|TsinghuaX/6051010...|      seek_video|2015-10-12 14:40:02|business|           10468|          0|\n",
            "|       5|   136060|c4d05fdd4af11ea45...|TsinghuaX/6051010...|      seek_video|2015-10-12 14:40:03|business|           10468|          0|\n",
            "|       5|   136060|c4d05fdd4af11ea45...|TsinghuaX/6051010...|      seek_video|2015-10-12 14:40:05|business|           10468|          0|\n",
            "|       5|   136060|c4d05fdd4af11ea45...|TsinghuaX/6051010...|     pause_video|2015-10-12 14:40:11|business|           10468|          0|\n",
            "|       5|   136060|c4d05fdd4af11ea45...|TsinghuaX/6051010...|      seek_video|2015-10-12 14:40:07|business|           10468|          0|\n",
            "|       5|   136060|c4d05fdd4af11ea45...|TsinghuaX/6051010...|      seek_video|2015-10-12 14:40:06|business|           10468|          0|\n",
            "|       5|   136060|c4d05fdd4af11ea45...|TsinghuaX/6051010...|      load_video|2015-10-12 14:39:45|business|           10468|          0|\n",
            "|       5|   136060|c4d05fdd4af11ea45...|TsinghuaX/6051010...|      seek_video|2015-10-12 14:40:01|business|           10468|          0|\n",
            "|       5|   136060|c4d05fdd4af11ea45...|TsinghuaX/6051010...|      seek_video|2015-10-12 14:39:54|business|           10468|          0|\n",
            "+--------+---------+--------------------+--------------------+----------------+-------------------+--------+----------------+-----------+\n",
            "only showing top 10 rows\n",
            "\n"
          ]
        }
      ]
    },
    {
      "cell_type": "code",
      "source": [
        "df_spark.show(5)"
      ],
      "metadata": {
        "colab": {
          "base_uri": "https://localhost:8080/"
        },
        "id": "8dYRLDki9W6_",
        "outputId": "d1e14382-7b1c-46de-f9b6-12996e53f9fb"
      },
      "execution_count": null,
      "outputs": [
        {
          "output_type": "stream",
          "name": "stdout",
          "text": [
            "+--------+---------+--------------------+--------------------+----------------+-------------------+--------+----------------+-----------+\n",
            "|username|enroll_id|          session_id|           course_id|          action|               time|category|session_duration|session_gap|\n",
            "+--------+---------+--------------------+--------------------+----------------+-------------------+--------+----------------+-----------+\n",
            "|    5981|      772|d8a9b787fa69063c3...|course-v1:Tsinghu...|     click_about|2015-09-27 15:42:59|     art|              13|          0|\n",
            "|    5981|      772|d8a9b787fa69063c3...|course-v1:Tsinghu...|      click_info|2015-09-27 15:43:12|     art|              13|          0|\n",
            "|  102691|   260571|365fb04030044ef58...|course-v1:Tsinghu...|     pause_video|2016-04-29 18:06:59| Unknown|           77273|          0|\n",
            "|  102691|   260571|365fb04030044ef58...|course-v1:Tsinghu...|click_courseware|2016-04-30 12:43:15| Unknown|           77273|          0|\n",
            "|  102691|   260571|365fb04030044ef58...|course-v1:Tsinghu...|click_courseware|2016-04-30 12:43:22| Unknown|           77273|          0|\n",
            "+--------+---------+--------------------+--------------------+----------------+-------------------+--------+----------------+-----------+\n",
            "only showing top 5 rows\n",
            "\n"
          ]
        }
      ]
    },
    {
      "cell_type": "code",
      "source": [
        "from pyspark.sql.functions import count, col, when\n",
        "\n",
        "\n",
        "action_count_df = df_spark.groupBy(\"username\", \"enroll_id\", \"session_id\").agg(\n",
        "    count(\"action\").alias(\"action_count\")\n",
        ")\n",
        "\n",
        "\n",
        "df_spark = df_spark.join(action_count_df, on=[\"username\", \"enroll_id\", \"session_id\"], how=\"left\")\n",
        "\n",
        "\n",
        "df_spark = df_spark.withColumn(\"action_frequency\",\n",
        "    when(col(\"session_duration\") > 0, col(\"action_count\") / col(\"session_duration\"))\n",
        "    .otherwise(0)  # Si `session_duration = 0`, on met `action_frequency = 0`\n",
        ")\n",
        "\n",
        "\n",
        "df_spark.show(10)\n",
        "\n",
        "\n"
      ],
      "metadata": {
        "colab": {
          "base_uri": "https://localhost:8080/"
        },
        "id": "3jNAXFAw-Io9",
        "outputId": "479a8138-60ec-4c7c-b881-ff9ae405c194"
      },
      "execution_count": null,
      "outputs": [
        {
          "output_type": "stream",
          "name": "stdout",
          "text": [
            "+--------+---------+--------------------+--------------------+----------------+-------------------+--------+----------------+-----------+------------+-------------------+\n",
            "|username|enroll_id|          session_id|           course_id|          action|               time|category|session_duration|session_gap|action_count|   action_frequency|\n",
            "+--------+---------+--------------------+--------------------+----------------+-------------------+--------+----------------+-----------+------------+-------------------+\n",
            "|    5981|      772|d8a9b787fa69063c3...|course-v1:Tsinghu...|     click_about|2015-09-27 15:42:59|     art|              13|          0|           2|0.15384615384615385|\n",
            "|    5981|      772|d8a9b787fa69063c3...|course-v1:Tsinghu...|      click_info|2015-09-27 15:43:12|     art|              13|          0|           2|0.15384615384615385|\n",
            "|  102691|   260571|365fb04030044ef58...|course-v1:Tsinghu...|     pause_video|2016-04-29 18:06:59| Unknown|           77273|          0|         134| 0.0017341115266652|\n",
            "|  102691|   260571|365fb04030044ef58...|course-v1:Tsinghu...|click_courseware|2016-04-30 12:43:15| Unknown|           77273|          0|         134| 0.0017341115266652|\n",
            "|  102691|   260571|365fb04030044ef58...|course-v1:Tsinghu...|click_courseware|2016-04-30 12:43:22| Unknown|           77273|          0|         134| 0.0017341115266652|\n",
            "|  102691|   260571|365fb04030044ef58...|course-v1:Tsinghu...|     pause_video|2016-04-30 12:43:23| Unknown|           77273|          0|         134| 0.0017341115266652|\n",
            "|  102691|   260571|365fb04030044ef58...|course-v1:Tsinghu...|click_courseware|2016-04-30 12:44:12| Unknown|           77273|          0|         134| 0.0017341115266652|\n",
            "|  102691|   260571|365fb04030044ef58...|course-v1:Tsinghu...|      play_video|2016-04-30 12:44:20| Unknown|           77273|          0|         134| 0.0017341115266652|\n",
            "|  102691|   260571|365fb04030044ef58...|course-v1:Tsinghu...|     pause_video|2016-04-29 17:59:26| Unknown|           77273|          0|         134| 0.0017341115266652|\n",
            "|  102691|   260571|365fb04030044ef58...|course-v1:Tsinghu...|click_courseware|2016-04-30 12:44:44| Unknown|           77273|          0|         134| 0.0017341115266652|\n",
            "+--------+---------+--------------------+--------------------+----------------+-------------------+--------+----------------+-----------+------------+-------------------+\n",
            "only showing top 10 rows\n",
            "\n"
          ]
        }
      ]
    },
    {
      "cell_type": "code",
      "source": [
        "df_spark.write.csv(\"dfspark_train_log_featured_final.csv\", header=True, mode=\"overwrite\")\n"
      ],
      "metadata": {
        "id": "84ezuDqy-Pvt"
      },
      "execution_count": null,
      "outputs": []
    },
    {
      "cell_type": "code",
      "source": [
        "import os\n",
        "print(os.listdir(\"/content/\"))  # Vérification"
      ],
      "metadata": {
        "colab": {
          "base_uri": "https://localhost:8080/"
        },
        "id": "yNtT_UWiBnuN",
        "outputId": "cb67dea8-dde1-4fcf-f805-c27b6d268d95"
      },
      "execution_count": null,
      "outputs": [
        {
          "output_type": "stream",
          "name": "stdout",
          "text": [
            "['.config', 'drive', 'dfspark_train_log_featured_final.csv', 'sample_data']\n"
          ]
        }
      ]
    },
    {
      "cell_type": "code",
      "source": [
        "!cat /content/dfspark_train_log_featured_final.csv/*.csv > /content/dfspark_train_log_final.csv\n"
      ],
      "metadata": {
        "id": "7_-Fc5_1Bsma"
      },
      "execution_count": null,
      "outputs": []
    },
    {
      "cell_type": "code",
      "source": [
        "from google.colab import files\n",
        "#files.download(\"/content/dfspark_train_log_final.csv\")\n"
      ],
      "metadata": {
        "id": "ey0I5DgCCCPp"
      },
      "execution_count": null,
      "outputs": []
    }
  ]
}